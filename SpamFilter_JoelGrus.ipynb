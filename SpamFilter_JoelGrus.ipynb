{
 "cells": [
  {
   "cell_type": "markdown",
   "id": "8bc69711",
   "metadata": {},
   "source": [
    "## Spam Filter\n",
    "Dummy spam filter accoriding to Joel Grus Book $\\textbf{'Data Science from Scratch'}$"
   ]
  },
  {
   "cell_type": "markdown",
   "id": "3b8156a4",
   "metadata": {},
   "source": [
    "# $0.$ Imports"
   ]
  },
  {
   "cell_type": "code",
   "execution_count": 1,
   "id": "eda7dba0",
   "metadata": {},
   "outputs": [],
   "source": [
    "import pandas\n",
    "import glob, re\n",
    "import random\n",
    "import math\n",
    "\n",
    "from collections import defaultdict\n",
    "from collections import Counter"
   ]
  },
  {
   "cell_type": "markdown",
   "id": "33ef6a89",
   "metadata": {},
   "source": [
    "# $1.$ Data"
   ]
  },
  {
   "cell_type": "code",
   "execution_count": 2,
   "id": "103ba059",
   "metadata": {},
   "outputs": [],
   "source": [
    "# update path\n",
    "path = r\"C:....\spam_assassin_corpus\\*\\*\"\n",
    "data = []"
   ]
  },
  {
   "cell_type": "code",
   "execution_count": 3,
   "id": "91b26e3f",
   "metadata": {},
   "outputs": [],
   "source": [
    "# glob.glob returns every filename that matches the wildcarded path\n",
    "for fn in glob.glob(path):\n",
    "    is_spam= \"ham\" not in fn\n",
    "    \n",
    "    with open(fn, 'r', encoding='utf-8', errors='ignore') as file:\n",
    "        for line in file:\n",
    "            if line.startswith(\"Subject:\"):\n",
    "                # remove the loading \"Subject: \" and keep what's left\n",
    "                subject = re.sub(r\"^Subject: \",\"\",line).strip()\n",
    "                data.append((subject,is_spam))"
   ]
  },
  {
   "cell_type": "markdown",
   "id": "b67d99e8",
   "metadata": {},
   "source": [
    " # $2.$ functions"
   ]
  },
  {
   "cell_type": "code",
   "execution_count": 4,
   "id": "c077c0fe",
   "metadata": {},
   "outputs": [],
   "source": [
    "# functio splits data into trainig and test data.\n",
    "def split_data(data, prob):\n",
    "    \"\"\"split data into fractions [prob, 1-prob]\"\"\"\n",
    "    results = [],[]\n",
    "    for row in data:\n",
    "        results[0 if random.random() < prob else 1].append(row)\n",
    "    return results"
   ]
  },
  {
   "cell_type": "code",
   "execution_count": 5,
   "id": "12ddd920",
   "metadata": {},
   "outputs": [],
   "source": [
    "# all words\n",
    "def tokenize(message):\n",
    "    message = message.lower()\n",
    "    all_words=re.findall(\"[a-z0-9']+\",message)\n",
    "    return set(all_words)"
   ]
  },
  {
   "cell_type": "code",
   "execution_count": 6,
   "id": "ef396bf1",
   "metadata": {},
   "outputs": [],
   "source": [
    "def count_words(training_set):\n",
    "    \"\"\"training set consists of pairs (message, is_spam)\"\"\"\n",
    "    counts = defaultdict(lambda: [0,0])\n",
    "    for message, is_spam in training_set:\n",
    "        for word in tokenize(message):\n",
    "            counts[word][0 if is_spam else 1]+=1\n",
    "    return counts"
   ]
  },
  {
   "cell_type": "code",
   "execution_count": 7,
   "id": "ad05c445",
   "metadata": {},
   "outputs": [],
   "source": [
    "def word_probabilities(counts, total_spams, total_non_spams, k = 0.5):\n",
    "    \"\"\"function will return a list of triplets containing each word(w), the\n",
    "    probability of seeing that word in a spam message(p(w|spmam), and the probability \n",
    "    of seeing that word in a nonspam message (p(w|~spmam)\"\"\"\n",
    "    \n",
    "    return [(w, \n",
    "            (spam+k)/(total_spams+2*k), \n",
    "            (non_spam+k)/(total_non_spams+2*k))\n",
    "            for w, (spam, non_spam) in counts.items()]\n",
    "    "
   ]
  },
  {
   "cell_type": "code",
   "execution_count": 8,
   "id": "85da4e05",
   "metadata": {},
   "outputs": [],
   "source": [
    "def spam_probability(word_probs,message):\n",
    "    message_words=tokenize(message)\n",
    "    log_prob_if_spam=log_prob_if_not_spam = 0.0\n",
    "    \n",
    "    # iterate trough each word in our vocebulary\n",
    "    for word, prob_if_spam, prob_if_not_spam in word_probs:\n",
    "        \n",
    "        # if 'word' appears in the message, add the log probability of seeing it\n",
    "        if word in message_words:\n",
    "            log_prob_if_spam += math.log(prob_if_spam)\n",
    "            log_prob_if_not_spam += math.log(prob_if_not_spam)\n",
    "        # if 'word' does not apepar in the message add the log probability of _not_ \n",
    "        # seeing it which is log(1-probability of seeing it)\n",
    "        else:\n",
    "            log_prob_if_spam +=math.log(1.0-prob_if_spam)\n",
    "            log_prob_if_not_spam +=math.log(1.0-prob_if_not_spam)\n",
    "        prob_if_spam = math.exp(log_prob_if_spam)\n",
    "        prob_if_not_spam = math.exp(log_prob_if_not_spam)\n",
    "        \n",
    "        return prob_if_spam /(prob_if_spam + prob_if_not_spam)\n",
    "            \n",
    "            "
   ]
  },
  {
   "cell_type": "markdown",
   "id": "33a9763d",
   "metadata": {},
   "source": [
    "# $3.$ Model"
   ]
  },
  {
   "cell_type": "markdown",
   "id": "8bd6cbc4",
   "metadata": {},
   "source": [
    "### split data into trainig and test data"
   ]
  },
  {
   "cell_type": "code",
   "execution_count": 9,
   "id": "0fc041cc",
   "metadata": {},
   "outputs": [],
   "source": [
    "random.seed(0)\n",
    "train_data, test_data = split_data(data, 0.75)"
   ]
  },
  {
   "cell_type": "markdown",
   "id": "0b175691",
   "metadata": {},
   "source": [
    "### Naive Bayes Classifier"
   ]
  },
  {
   "cell_type": "code",
   "execution_count": 10,
   "id": "97d5debd",
   "metadata": {},
   "outputs": [],
   "source": [
    "class NaivBayesClassifier:\n",
    "    \n",
    "    def __init__(self, k=0.5):\n",
    "        self.k = k\n",
    "        self.word_probs=[]\n",
    "    \n",
    "    def train(self,training_set):\n",
    "        # count spam and non-spam messages\n",
    "        num_spams = len([is_spam\n",
    "                         for message, is_spam in training_set\n",
    "                         if is_spam])\n",
    "        num_non_spams = len(training_set)-num_spams\n",
    "        \n",
    "        # run training data through our 'pipeline'\n",
    "        word_counts = count_words(training_set)\n",
    "        self.word_probs = word_probabilities(word_counts,\n",
    "                                             num_spams,\n",
    "                                             num_non_spams, \n",
    "                                             self.k)\n",
    "        \n",
    "    def classify(self,message):\n",
    "        return spam_probability(self.word_probs, message)"
   ]
  },
  {
   "cell_type": "markdown",
   "id": "60026d60",
   "metadata": {},
   "source": [
    "# Ckeck the model"
   ]
  },
  {
   "cell_type": "code",
   "execution_count": 11,
   "id": "9fe2f439",
   "metadata": {},
   "outputs": [],
   "source": [
    "classifier = NaivBayesClassifier()\n",
    "classifier.train(train_data)"
   ]
  },
  {
   "cell_type": "code",
   "execution_count": 12,
   "id": "393c91df",
   "metadata": {},
   "outputs": [],
   "source": [
    "# triplets (subject, actual is_spam, predicted spam probability)\n",
    "classified = [(subject, is_spam, classifier.classify(subject))\n",
    "              for subject, is_spam in test_data]"
   ]
  },
  {
   "cell_type": "code",
   "execution_count": 13,
   "id": "6e9207bc",
   "metadata": {},
   "outputs": [
    {
     "data": {
      "text/plain": [
       "Counter({(False, True): 1042, (True, True): 477})"
      ]
     },
     "execution_count": 13,
     "metadata": {},
     "output_type": "execute_result"
    }
   ],
   "source": [
    "# assume that spam_probability > 0.5 corresponds to spam prediction\n",
    "# and count the combinations of (actual is_spam, predicted is_spam)\n",
    "counts = Counter((is_spam, spam_probability > 0.5)\n",
    "                 for _, is_spam, spam_probability in classified)\n",
    "counts"
   ]
  }
 ],
 "metadata": {
  "kernelspec": {
   "display_name": "Python 3",
   "language": "python",
   "name": "python3"
  },
  "language_info": {
   "codemirror_mode": {
    "name": "ipython",
    "version": 3
   },
   "file_extension": ".py",
   "mimetype": "text/x-python",
   "name": "python",
   "nbconvert_exporter": "python",
   "pygments_lexer": "ipython3",
   "version": "3.9.12"
  }
 },
 "nbformat": 4,
 "nbformat_minor": 5
}
